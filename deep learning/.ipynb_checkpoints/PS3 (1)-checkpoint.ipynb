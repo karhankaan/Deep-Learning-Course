{
 "cells": [
  {
   "cell_type": "markdown",
   "metadata": {
    "id": "AgrUWpkWVELC"
   },
   "source": [
    "# Instructions\n",
    "\n",
    "For this assignment you will use PyTorch instead of EDF to implement and train neural networks. You should install it (there are multiple tutorials online and it is especially easy if you're using Anaconda). You also have to install the seaborn library which offers some plotting functions that we'll use. Check https://pytorch.org/tutorials/ for some PyTorch tutorials -- this assignment assumes that you know the basics like defining models with multiple modules and coding up functions to do training with PyTorch optimizers.\n",
    "\n",
    "If you have a nvidia GPU it is a good idea to install CUDA and PyTorch with gpu support so you can run everything on gpu. Another option is to run everything on Google Colab, which offers some free gpu time (check https://colab.research.google.com/ and look for tutorials online).\n",
    "\n",
    "Unlike previous assignments, in this one you will have to do some writing instead of just coding. Try to keep your answers short and precise, and you are encouraged to write equations if needed (you can do that using markdown cells). You can also use code as part of your answers (like plotting and printing, etc). Blue text indicates questions or things that you should discuss/comment, and there will red \"ANSWER (BEGIN)\" and \"ANSWER (END)\" markdown cells to indicate that you should add cells with your writeup between these two. **Make sure not to redefine variables or functions in your writeup, which can change the behavior of the next cells.**\n",
    "\n",
    "Finally, you might have to do minor changes to the provided code due to differences in python/pytorch versions. You can post on piazza if there's a major, non-trivial change that you had to do (so other students can be aware of it and how to proceed), but for minor changes you should just apply them and keep working on the assignment."
   ]
  },
  {
   "cell_type": "code",
   "execution_count": 1,
   "metadata": {
    "id": "G7XGc48nVELD"
   },
   "outputs": [
    {
     "name": "stderr",
     "output_type": "stream",
     "text": [
      "C:\\Users\\kayan\\anaconda3\\lib\\site-packages\\torch\\cuda\\__init__.py:52: UserWarning: CUDA initialization: Found no NVIDIA driver on your system. Please check that you have an NVIDIA GPU and installed a driver from http://www.nvidia.com/Download/index.aspx (Triggered internally at  ..\\c10\\cuda\\CUDAFunctions.cpp:100.)\n",
      "  return torch._C._cuda_getDeviceCount() > 0\n"
     ]
    }
   ],
   "source": [
    "import torch, math, copy\n",
    "import numpy as np\n",
    "import matplotlib.pyplot as plt\n",
    "import seaborn as sns\n",
    "from torchvision import datasets, transforms\n",
    "import torch.nn as nn\n",
    "import torch.nn.init as init\n",
    "import torch.nn.functional as F\n",
    "if torch.cuda.is_available():\n",
    "\t\t# If there's cuda\n",
    "    device = torch.device('cuda')\n",
    "else:\n",
    "\t\t# defaults to cpu is cuda is not available\n",
    "    device = torch.device('cpu')"
   ]
  },
  {
   "cell_type": "markdown",
   "metadata": {
    "id": "1UrvZyycVELG"
   },
   "source": [
    "# Learning rate as temperature in SGD\n",
    "\n",
    "In this first part you will study how the learning rate acts as temperature in the stationary distribution of the stochastic differential equation (SDE) that approximates SGD. First, recall the SDE derived in the lectures that approximates the continuous-time behavior of SGD:\n",
    "\n",
    "$$dw = - \\nabla L(w) dt + \\epsilon \\sqrt{\\eta dt}, \\quad \\epsilon \\sim \\mathcal N(0, \\sigma^2), \\eta \\propto dt$$\n",
    "\n",
    "where $\\eta$ is the learning rate and $\\sigma$ captures the noise level of stochastic gradients (i.e. gradients computed from a mini-batch).\n",
    "\n",
    "Our goal is to sample from the stationary distribution of the above SDE. To do that, we will use Stochastic Gradient Langevin Dynamics (SGLD), an algorithm commonly used to sample from the parameter's posterior -- this is unlike SGD, whose goal is to simply minimize the objective $L$, which can be seen as finding the modes of the parameter's posterior (this will become more clear as you run the experiments and observe the results).\n",
    "\n",
    "SGLD works by adding an additional source of noise such that the produced iterates are samples of the posterior instead of modes. Unlike the noise in the SDE above (which captures the variance of stochastic gradients), the additional term we will add scales as $\\sqrt{\\eta}$, meaning that it will dominate the updates if the learning rate $\\eta$ is small.\n",
    "\n",
    "The SGLD update rule for the above SDE is:\n",
    "\n",
    "$$w_{t+1} = w_t -  \\eta \\nabla L(w) + \\eta \\epsilon_1 + \\sqrt{\\eta} \\epsilon_2, \\quad \\epsilon_1 \\sim \\mathcal N(0, \\sigma^2), \\epsilon_2 \\sim \\mathcal N(0, 1)$$\n",
    "\n",
    "The update above can be also understood as follows. Let us consider an iterate $w$ and start by taking the SGD update\n",
    "\n",
    "$$w^{SGD} = w - \\eta \\nabla \\tilde L(w)$$\n",
    "\n",
    "where $\\nabla \\tilde L(w)$ is a stochastic estimate of the true gradient $\\nabla L(w)$, which we approximate as $\\nabla \\tilde L(w) \\approx \\nabla L(w) + \\epsilon_1$, where $\\epsilon_1$ is normally-distributed with variance $\\sigma^2$ that decreases with the mini-batch size (check the lecture slides for more details on this step). This yields the following update:\n",
    "\n",
    "$$w^{LD} = w - \\eta \\nabla L(w) + \\eta \\epsilon_1, \\quad \\epsilon_1 \\sim \\mathcal N(0, \\sigma^2)$$\n",
    "\n",
    "Finally, since we want to perform inference and not minimize $L$, we sample $w^{SGLD} \\sim \\mathcal N(w^{LD}, \\eta)$, or equivalently:\n",
    "\n",
    "$$w^{SGLD} = w - \\eta \\nabla L(w) + \\eta \\epsilon_1 + \\sqrt{\\eta} \\epsilon_2, \\quad \\epsilon_1 \\sim \\mathcal N(0, \\sigma^2), \\epsilon_2 \\sim \\mathcal N(0, 1)$$\n",
    "\n",
    "You can check Welling & Teh, Bayesian Learning via Stochastic Gradient Langevin Dynamics for more details on SGLD, although this is not needed to complete the assignment: https://www.ics.uci.edu/~welling/publications/papers/stoclangevin_v6.pdf. Another reference is Stochastic Gradient Descent as Approximate Bayesian Inference by Mandt et al.: https://arxiv.org/abs/1704.04289."
   ]
  },
  {
   "cell_type": "markdown",
   "metadata": {
    "id": "SyO5jo8TVELH"
   },
   "source": [
    "The cell below define a 1-dimensional problem characterized by a loss $L(w)$, along with some functions that you'll use for plotting."
   ]
  },
  {
   "cell_type": "code",
   "execution_count": 3,
   "metadata": {
    "id": "qvQZoedDVELH"
   },
   "outputs": [],
   "source": [
    "low, high = -60, 60\n",
    "\n",
    "def L(w):\n",
    "    return 10*torch.clamp((1 + torch.cos(w) + 0.2*torch.abs(w - 5*math.pi)) / 5.0, max=1.75)\n",
    "\n",
    "def plot_iters(w_space, loss_space, w_iters=None, loss_iters=None, focus=False):\n",
    "    plt.xlabel(\"w\")\n",
    "    plt.ylabel(\"loss\")\n",
    "    plt.plot(w_space, loss_space)\n",
    "    if not (w_iters is None or loss_iters is None):\n",
    "        plt.plot(w_iters, loss_iters, marker='x')\n",
    "        if focus:\n",
    "            min_w, max_w = min(w_iters), max(w_iters)\n",
    "            min_l, max_l = min(loss_iters), max(loss_iters)\n",
    "            gap_w, gap_l = max_w - min_w, max_l - min_l\n",
    "            plt.xlim(min_w - gap_w/4, max_w + gap_w/4)\n",
    "            plt.ylim(min_l - gap_l/4, max_l + gap_l/4)\n",
    "    plt.tight_layout()\n",
    "    plt.show()\n",
    "    plt.clf()\n",
    "    \n",
    "def plot_loss(loss_iters):\n",
    "    plt.xlabel(\"iter\")\n",
    "    plt.ylabel(\"loss\")\n",
    "    plt.plot(np.arange(len(loss_iters)), loss_iters)\n",
    "    plt.tight_layout()\n",
    "    plt.show()\n",
    "    plt.clf()\n",
    "    \n",
    "def plot_density(w_space, loss_space, w_iters):\n",
    "    fig, ax1 = plt.subplots()\n",
    "    ax1.set_xlabel('w')\n",
    "    ax1.set_ylabel('loss')\n",
    "    ax1.plot(w_space, loss_space)\n",
    "    ax2 = ax1.twinx()\n",
    "    ax2.set_ylabel('p(w)')\n",
    "    sns.distplot(w_iters, hist = False, kde = True, color='orange',\n",
    "                 kde_kws = {'shade': True, 'bw' : 0.1, 'clip' : (low, high)})\n",
    "    fig.tight_layout()\n",
    "    plt.show()\n",
    "    plt.clf()"
   ]
  },
  {
   "cell_type": "markdown",
   "metadata": {
    "id": "B8XDTnxhVELK"
   },
   "source": [
    "The cell below plots the loss, which was designed to capture some characteristics of deep learning: it contains multiple local minima, is highly non-convex and its gradients provide little to no signal if the parameters become too large."
   ]
  },
  {
   "cell_type": "code",
   "execution_count": 4,
   "metadata": {
    "id": "hdKwN_HOVELK",
    "outputId": "9e4db810-9274-4c40-f631-dde6615da6aa"
   },
   "outputs": [
    {
     "data": {
      "image/png": "[encoded data removed]",
      "text/plain": [
       "<Figure size 432x288 with 1 Axes>"
      ]
     },
     "metadata": {
      "needs_background": "light"
     },
     "output_type": "display_data"
    },
    {
     "data": {
      "text/plain": [
       "<Figure size 432x288 with 0 Axes>"
      ]
     },
     "metadata": {},
     "output_type": "display_data"
    }
   ],
   "source": [
    "w_space = torch.linspace(low, high, 500)\n",
    "loss_space = L(w_space)\n",
    "w_space, loss_space = w_space.numpy(), loss_space.numpy()\n",
    "plot_iters(w_space, loss_space)"
   ]
  },
  {
   "cell_type": "markdown",
   "metadata": {
    "id": "1nZ2yZkKVELN"
   },
   "source": [
    "An example of how you should aim to answer questions / add discussions is:\n",
    "\n",
    "**<span style=\"color:blue\">\n",
    "    Does the above function admit multiple global minima?\n",
    "</span>**\n",
    "\n",
    "**<span style=\"color:red\">\n",
    "    ------------------------------------------------------------------------------- ANSWER (BEGIN) -------------------------------------------------------------------------------\n",
    "</span>**\n",
    "\n",
    "No, check the plot produced by the cell below: it has a single global minimum at $w^* \\approx 16$ with $L(w^*) \\approx 0$, and from the plot above we can see that all other local minima have $L(w) \\geq 2$."
   ]
  },
  {
   "cell_type": "code",
   "execution_count": null,
   "metadata": {
    "id": "LtMBESyiVELN",
    "outputId": "d9e6fc58-a76c-42e3-e572-fe424d99f8a4"
   },
   "outputs": [
    {
     "data": {
      "image/png": "[encoded data removed]",
      "text/plain": [
       "<Figure size 432x288 with 1 Axes>"
      ]
     },
     "metadata": {
      "needs_background": "light",
      "tags": []
     },
     "output_type": "display_data"
    },
    {
     "data": {
      "text/plain": [
       "<Figure size 432x288 with 0 Axes>"
      ]
     },
     "metadata": {
      "tags": []
     },
     "output_type": "display_data"
    }
   ],
   "source": [
    "w_space2 = torch.linspace(5, 25, 500)\n",
    "plot_iters(w_space2.numpy(), L(w_space2).numpy())"
   ]
  },
  {
   "cell_type": "markdown",
   "metadata": {
    "id": "8ziixu2EVELQ"
   },
   "source": [
    "**<span style=\"color:red\">\n",
    "    ------------------------------------------------------------------------------- ANSWER (END) -------------------------------------------------------------------------------\n",
    "</span>**"
   ]
  },
  {
   "cell_type": "markdown",
   "metadata": {
    "id": "h8WEggv8VELQ"
   },
   "source": [
    "Finish implementing SGLD in the cell below. For this experiment you can set $\\sigma = 0.1$ as the standard deviation of $\\epsilon_1$. Your implementation should work regardless of the dimension of w: you should treat each component as an independent iterate and perform SGLD in parallel for all components of w, i.e. $w_{t+1}[i] = w_t[i] -  \\eta \\nabla L(w[i]) + \\eta \\epsilon_1[i] + \\sqrt{\\eta} \\epsilon_2[i]$.\n",
    "\n",
    "The returned variables w_iters and loss_iters should have shape (T x N), where T is the number of SGLD iterations and N is the number of initial w iterates (the dimension of w), with $w_{iters}[t,i] = w_t[i]$ and $loss_{iters}[t,i] = L(w_t[i])$."
   ]
  },
  {
   "cell_type": "code",
   "execution_count": 5,
   "metadata": {
    "id": "WvoQaTjAVELR"
   },
   "outputs": [],
   "source": [
    "def SGLD(iters, w, lr):\n",
    "    w_iters = []\n",
    "    loss_iters = []\n",
    "    sigma = 0.1\n",
    "    if w.data.dim() == 0:\n",
    "        w.data = w.data.view(1)\n",
    "    N = w.data.size(0)\n",
    "    \n",
    "    # possibly insert code here (depends on how you implement the function)\n",
    "    \n",
    "    for i in range(iters):\n",
    "        loss = L(w)# insert code here\n",
    "        loss.backward(torch.ones(N))\n",
    "        \n",
    "        w_iters.append(w.clone().data.numpy())\n",
    "        loss_iters.append(loss.data.numpy())\n",
    "        e1 = torch.tensor(np.random.normal(0,sigma, N))\n",
    "        e2 = torch.tensor(np.random.normal(0, 1, N))\n",
    "        with torch.no_grad():\n",
    "            w.data.add_(lr*e1 + np.sqrt(lr)*e2 -  lr*w.grad)\n",
    "        w.grad.zero_()\n",
    "\n",
    "    return np.asarray(w_iters), np.asarray(loss_iters)"
   ]
  },
  {
   "cell_type": "markdown",
   "metadata": {
    "id": "vesmvz13VELT"
   },
   "source": [
    "Let's check how the iterates look like with learning rates of vastly different magnitudes (also use this as a sanity-check of your implementation), starting from w=30."
   ]
  },
  {
   "cell_type": "code",
   "execution_count": 6,
   "metadata": {
    "id": "YFAu0t0pVELT",
    "outputId": "2fa21247-dd30-49fe-9c32-acd582b6a84e"
   },
   "outputs": [
    {
     "data": {
      "image/png": "[encoded data removed]",
      "text/plain": [
       "<Figure size 432x288 with 1 Axes>"
      ]
     },
     "metadata": {
      "needs_background": "light"
     },
     "output_type": "display_data"
    },
    {
     "data": {
      "image/png": "[encoded data removed]",
      "text/plain": [
       "<Figure size 432x288 with 1 Axes>"
      ]
     },
     "metadata": {
      "needs_background": "light"
     },
     "output_type": "display_data"
    },
    {
     "data": {
      "text/plain": [
       "<Figure size 432x288 with 0 Axes>"
      ]
     },
     "metadata": {},
     "output_type": "display_data"
    }
   ],
   "source": [
    "for lr in [0.02, 2.0]:\n",
    "    w = nn.Parameter(torch.tensor(30.))\n",
    "    w_iters, loss_iters = SGLD(50, w, lr)\n",
    "    plot_iters(w_space, loss_space, w_iters, loss_iters)"
   ]
  },
  {
   "cell_type": "markdown",
   "metadata": {
    "id": "mR_umRIGVELW"
   },
   "source": [
    "Now, initialize 10k different values for w from an uniform distribution over $[0,40]$. In the cell below w should be a 10k-dimensional vector and the SGLD call will likely only work if your implementation works for batched w iterates. Also remember that the components should be updated independently, so you should not take the average loss when computing gradients.\n",
    "\n",
    "After 1500 iterations we will plot the distribution of the last SGLD iterates (one for each of the 10k randomly-initialized values), along with the expected loss per iteration. The first plot shows the loss function (blue, left y-axis) and the distribution of the 10k sampled parameters (orange, with values given by the x-axis and probability in the right y-axis)."
   ]
  },
  {
   "cell_type": "code",
   "execution_count": null,
   "metadata": {
    "id": "TvT1joWBVELX",
    "outputId": "4b4dca15-35c8-4e05-f496-30cddafc9332"
   },
   "outputs": [
    {
     "data": {
      "image/png": "[encoded data removed]",
      "text/plain": [
       "<Figure size 432x288 with 2 Axes>"
      ]
     },
     "metadata": {
      "needs_background": "light",
      "tags": []
     },
     "output_type": "display_data"
    },
    {
     "data": {
      "image/png": "[encoded data removed]",
      "text/plain": [
       "<Figure size 432x288 with 1 Axes>"
      ]
     },
     "metadata": {
      "needs_background": "light",
      "tags": []
     },
     "output_type": "display_data"
    },
    {
     "name": "stdout",
     "output_type": "stream",
     "text": [
      "Expected loss: 4.238665255244027\n"
     ]
    },
    {
     "data": {
      "text/plain": [
       "<Figure size 432x288 with 0 Axes>"
      ]
     },
     "metadata": {
      "tags": []
     },
     "output_type": "display_data"
    }
   ],
   "source": [
    "lr = 0.02\n",
    "\n",
    "w = nn.Parameter(torch.tensor(np.random.uniform(0,40,10000))) # insert code here. w should be a 10k-dimensional vector with components sampled from U(0,40)\n",
    "\n",
    "\n",
    "w_iters, loss_iters = SGLD(1500, w, lr)\n",
    "plot_density(w_space, loss_space, w_iters[-1])\n",
    "plot_loss(loss_iters.mean(1))\n",
    "print(\"Expected loss: {}\".format(loss_iters[-1].mean()))"
   ]
  },
  {
   "cell_type": "markdown",
   "metadata": {
    "id": "JCH6--XoVELZ"
   },
   "source": [
    "**<span style=\"color:blue\">\n",
    "    Check the first of the two plots above. What can you say about the estimated distribution $p(w)$ and the corresponding loss value $L(w)$? Does $p(w)$ look like a Gibbs distribution with energy $E = L$, i.e. $p(w) \\propto \\exp \\left( \\frac{-L(w)}{T} \\right)$ for some temperature $T$?\n",
    "</span>**\n",
    "\n",
    "**<span style=\"color:red\">\n",
    "    ------------------------------------------------------------------------------- ANSWER (BEGIN) -------------------------------------------------------------------------------\n",
    "</span>**"
   ]
  },
  {
   "cell_type": "markdown",
   "metadata": {
    "id": "BVT22NOJVELa"
   },
   "source": [
    "Yes. The distribution is at its maximum when the loss is minimum. Also the distribution seems to give same values for same values of L. Furthermore, we see exponential decay as L increases. "
   ]
  },
  {
   "cell_type": "markdown",
   "metadata": {
    "id": "-aNH63ZFVELa"
   },
   "source": [
    "**<span style=\"color:red\">\n",
    "    ------------------------------------------------------------------------------- ANSWER (END) -------------------------------------------------------------------------------\n",
    "</span>**"
   ]
  },
  {
   "cell_type": "markdown",
   "metadata": {
    "id": "Z8kPPlc2VELb"
   },
   "source": [
    "Repeat the above but with a learning rate of 1.5."
   ]
  },
  {
   "cell_type": "code",
   "execution_count": null,
   "metadata": {
    "id": "H1EJ1HfwVELc",
    "outputId": "597201fc-6b99-4784-9ed4-ea445366b672"
   },
   "outputs": [
    {
     "data": {
      "image/png": "[encoded data removed]",
      "text/plain": [
       "<Figure size 432x288 with 2 Axes>"
      ]
     },
     "metadata": {
      "needs_background": "light",
      "tags": []
     },
     "output_type": "display_data"
    },
    {
     "data": {
      "image/png": "[encoded data removed]",
      "text/plain": [
       "<Figure size 432x288 with 1 Axes>"
      ]
     },
     "metadata": {
      "needs_background": "light",
      "tags": []
     },
     "output_type": "display_data"
    },
    {
     "name": "stdout",
     "output_type": "stream",
     "text": [
      "Expected loss: 3.640056444128744\n"
     ]
    },
    {
     "data": {
      "text/plain": [
       "<Figure size 432x288 with 0 Axes>"
      ]
     },
     "metadata": {
      "tags": []
     },
     "output_type": "display_data"
    }
   ],
   "source": [
    "lr = 1.5\n",
    "w = nn.Parameter(torch.tensor(np.random.uniform(0,40,10000)))# insert code here, same initialization previously\n",
    "w_iters, loss_iters = SGLD(1500, w, lr)\n",
    "plot_density(w_space, loss_space, w_iters[-1])\n",
    "plot_loss(loss_iters.mean(1))\n",
    "print(\"Expected loss: {}\".format(loss_iters[-1].mean()))"
   ]
  },
  {
   "cell_type": "markdown",
   "metadata": {
    "id": "cO3W9wCTVELi"
   },
   "source": [
    "**<span style=\"color:blue\">\n",
    "    Compare the two parameter distributions (produced with large/small learning rates) and discuss how and why they differ. What can you say about their temperatures?\n",
    "</span>**\n",
    "\n",
    "**<span style=\"color:red\">\n",
    "    ------------------------------------------------------------------------------- ANSWER (BEGIN) -------------------------------------------------------------------------------\n",
    "</span>**"
   ]
  },
  {
   "cell_type": "markdown",
   "metadata": {
    "id": "aoyU7qbtVELj"
   },
   "source": [
    "Increasing the learning rate increased the temperature. As seen in the equation the equation $\\exp(-L/T)$, as parameter T increases, the changes in Loss should change the distribution less rapidly. In the first distribution we observe this by the fact that the distribution hits zero between two peaks. However, in the second distribution, the changes in the distribution between peaks are less rapid, which means that the second distribution has higher temperature. Furthermore, lower temperature corresponds to a smaller range for the distribution. This can also be observed in the graphs as the first one has smaller range.   "
   ]
  },
  {
   "cell_type": "markdown",
   "metadata": {
    "id": "obZJIX3sVELj"
   },
   "source": [
    "**<span style=\"color:red\">\n",
    "    ------------------------------------------------------------------------------- ANSWER (END) -------------------------------------------------------------------------------\n",
    "</span>**"
   ]
  },
  {
   "cell_type": "markdown",
   "metadata": {
    "id": "vq2r9rh5VELk"
   },
   "source": [
    "Now, let's check what happens if we decay the learning rate of SGLD by a factor of 2 every 500 iterations."
   ]
  },
  {
   "cell_type": "code",
   "execution_count": null,
   "metadata": {
    "id": "iLm3IKdyVELk",
    "outputId": "b406039c-3a3b-4717-ccd8-cea62403d914"
   },
   "outputs": [
    {
     "data": {
      "image/png": "[encoded data removed]",
      "text/plain": [
       "<Figure size 432x288 with 2 Axes>"
      ]
     },
     "metadata": {
      "needs_background": "light",
      "tags": []
     },
     "output_type": "display_data"
    },
    {
     "data": {
      "text/plain": [
       "<Figure size 432x288 with 0 Axes>"
      ]
     },
     "metadata": {
      "tags": []
     },
     "output_type": "display_data"
    },
    {
     "data": {
      "image/png": "[encoded data removed]",
      "text/plain": [
       "<Figure size 432x288 with 2 Axes>"
      ]
     },
     "metadata": {
      "needs_background": "light",
      "tags": []
     },
     "output_type": "display_data"
    },
    {
     "data": {
      "text/plain": [
       "<Figure size 432x288 with 0 Axes>"
      ]
     },
     "metadata": {
      "tags": []
     },
     "output_type": "display_data"
    },
    {
     "data": {
      "image/png": "[encoded data removed]",
      "text/plain": [
       "<Figure size 432x288 with 2 Axes>"
      ]
     },
     "metadata": {
      "needs_background": "light",
      "tags": []
     },
     "output_type": "display_data"
    },
    {
     "data": {
      "image/png": "[encoded data removed]",
      "text/plain": [
       "<Figure size 432x288 with 1 Axes>"
      ]
     },
     "metadata": {
      "needs_background": "light",
      "tags": []
     },
     "output_type": "display_data"
    },
    {
     "name": "stdout",
     "output_type": "stream",
     "text": [
      "Expected loss: 1.2588425867133564\n"
     ]
    },
    {
     "data": {
      "text/plain": [
       "<Figure size 432x288 with 0 Axes>"
      ]
     },
     "metadata": {
      "tags": []
     },
     "output_type": "display_data"
    }
   ],
   "source": [
    "lr = 1.5\n",
    "w = nn.Parameter(torch.tensor(np.random.uniform(0,40,10000)))# insert code here, same initialization previously\n",
    "total_loss_iters = []\n",
    "for k in range(3):\n",
    "    w_iters, loss_iters = SGLD(500, w, lr)\n",
    "    plot_density(w_space, loss_space, w_iters[-1])\n",
    "    lr = lr/2.0\n",
    "    total_loss_iters.append(loss_iters)\n",
    "    \n",
    "total_loss_iters = np.concatenate(total_loss_iters)\n",
    "plot_loss(total_loss_iters.mean(1))\n",
    "print(\"Expected loss: {}\".format(total_loss_iters[-1].mean()))"
   ]
  },
  {
   "cell_type": "markdown",
   "metadata": {
    "id": "DOukhJNaVELr"
   },
   "source": [
    "**<span style=\"color:blue\">\n",
    "    Compare the final expected loss achieved in the three experiments above. Give an explanation for how the parameter density and the loss curve evolved as the learning rate was decayed. Have you seen a curve with a similar shape in the course lectures?\n",
    "</span>**\n",
    "\n",
    "**<span style=\"color:red\">\n",
    "    ------------------------------------------------------------------------------- ANSWER (BEGIN) -------------------------------------------------------------------------------\n",
    "</span>**"
   ]
  },
  {
   "cell_type": "markdown",
   "metadata": {
    "id": "p-3vAaIsVELr"
   },
   "source": [
    "Each time learning rate was reduced, the temperature of the distribution went down. This can be seen by observing the range of the probability distributions. The range reduced each time learning rate was decreased. In the third plot, we see that the loss went down at first and stabilized for each learning rate. Each time the learning rate decayed by a factor of two, the loss halved. This curve is very similar to the resnet loss curve we saw in the course lectures where the same strategy was used. "
   ]
  },
  {
   "cell_type": "markdown",
   "metadata": {
    "id": "iDCHDkjtVELs"
   },
   "source": [
    "**<span style=\"color:red\">\n",
    "    ------------------------------------------------------------------------------- ANSWER (END) -------------------------------------------------------------------------------\n",
    "</span>**"
   ]
  },
  {
   "cell_type": "markdown",
   "metadata": {
    "id": "3OHa6nxLVELs"
   },
   "source": [
    "Finally, we will check whether the discrete decays adopted above can be replaced by a more gradual, smooth schedule.\n",
    "\n",
    "In the cell below implement a schedule $\\eta_t = \\frac{\\eta}{\\sqrt t}$ and run SGLD for 1500 iterations, again starting from 10k randomly-initialized parameters."
   ]
  },
  {
   "cell_type": "code",
   "execution_count": null,
   "metadata": {
    "id": "4qmAofGMVELt",
    "outputId": "3db7f776-bd29-498f-968e-84f88954c66b"
   },
   "outputs": [
    {
     "data": {
      "image/png": "[encoded data removed]",
      "text/plain": [
       "<Figure size 432x288 with 2 Axes>"
      ]
     },
     "metadata": {
      "needs_background": "light",
      "tags": []
     },
     "output_type": "display_data"
    },
    {
     "data": {
      "image/png": "[encoded data removed]",
      "text/plain": [
       "<Figure size 432x288 with 1 Axes>"
      ]
     },
     "metadata": {
      "needs_background": "light",
      "tags": []
     },
     "output_type": "display_data"
    },
    {
     "name": "stdout",
     "output_type": "stream",
     "text": [
      "Expected loss: 2.165614792869843\n"
     ]
    },
    {
     "data": {
      "text/plain": [
       "<Figure size 432x288 with 0 Axes>"
      ]
     },
     "metadata": {
      "tags": []
     },
     "output_type": "display_data"
    }
   ],
   "source": [
    "lr = 10# choose a reasonably large value\n",
    "w = nn.Parameter(torch.tensor(np.random.uniform(0,40,10000))) # insert code here, same initialization previously\n",
    "total_loss_iters = []\n",
    "for k in range(1500):\n",
    "    cur_lr = lr/ np.sqrt(k+1)# insert code here\n",
    "    w_iters, loss_iters = SGLD(1, w, cur_lr)\n",
    "    total_loss_iters.append(loss_iters)\n",
    "plot_density(w_space, loss_space, w_iters[-1])\n",
    "\n",
    "total_loss_iters = np.concatenate(total_loss_iters)\n",
    "plot_loss(total_loss_iters.mean(1))\n",
    "print(\"Expected loss: {}\".format(total_loss_iters[-1].mean()))"
   ]
  },
  {
   "cell_type": "markdown",
   "metadata": {
    "id": "lFUv-scyVELw"
   },
   "source": [
    "**<span style=\"color:blue\">\n",
    "    Try different values for $\\eta$ and try to match or outperform the discrete schedule. Were you able to match it? If no, why not?\n",
    "</span>**\n",
    "\n",
    "**<span style=\"color:red\">\n",
    "    ------------------------------------------------------------------------------- ANSWER (BEGIN) -------------------------------------------------------------------------------\n",
    "</span>**"
   ]
  },
  {
   "cell_type": "markdown",
   "metadata": {
    "id": "UR7FXA41VELw"
   },
   "source": [
    "A range of values from 1 to 20 is tried below and the best value is reported. I was not able to match the discrete schedule's performance. It seems that reducing the temperature before reaching a stable value performs worse than reducing it after reaching a stable value. This probably causes the model to get stuck in local minimas. "
   ]
  },
  {
   "cell_type": "code",
   "execution_count": null,
   "metadata": {
    "id": "4RmqHF7fVELx",
    "outputId": "9804d499-c7df-4ea6-c630-012f2022eb9e"
   },
   "outputs": [
    {
     "name": "stdout",
     "output_type": "stream",
     "text": [
      "Best Expected loss: 2.0335230412549046\n"
     ]
    }
   ],
   "source": [
    "lrs = [float(i) for i in range(1,20)]\n",
    "losses = []\n",
    "for lr in lrs:\n",
    "    w = nn.Parameter(torch.tensor(np.random.uniform(0,40,10000)))\n",
    "    total_loss_iters = []\n",
    "    for k in range(1500):\n",
    "        cur_lr = lr/ np.sqrt(k+1)# insert code here\n",
    "        w_iters, loss_iters = SGLD(1, w, cur_lr)\n",
    "        total_loss_iters.append(loss_iters)\n",
    "    total_loss_iters = np.concatenate(total_loss_iters)\n",
    "    losses.append(total_loss_iters[-1].mean())\n",
    "print(\"Best Expected loss: {}\".format(min(losses)))"
   ]
  },
  {
   "cell_type": "markdown",
   "metadata": {
    "id": "jU9AjJiWVELz"
   },
   "source": [
    "**<span style=\"color:red\">\n",
    "    ------------------------------------------------------------------------------- ANSWER (END) -------------------------------------------------------------------------------\n",
    "</span>**"
   ]
  },
  {
   "cell_type": "markdown",
   "metadata": {
    "id": "34p-RqK-VEL0"
   },
   "source": [
    "# The role of the learning rate in deep learning\n",
    "\n",
    "In this second part you'll check whether the behavior observed above is also observable when training neural networks. In particular, you'll study how the magnitude of the learning rate affects a model's performance, especially when annealed properly.\n",
    "\n",
    "The following experiments will use a small subset of MNIST. We will use 256 samples for training and 2048 for test."
   ]
  },
  {
   "cell_type": "code",
   "execution_count": null,
   "metadata": {
    "colab": {
     "base_uri": "https://localhost:8080/",
     "height": 369,
     "referenced_widgets": [
      "82e00da97c67459f9ebf3956c1b16513",
      "5f06d31b2f684e25a59f0bd1b0c9e4d1",
      "0eb9061bc9994e799c5ec211c26c425d",
      "a256df1ef65c43968d2a19172a7092fb",
      "2d868f4b2577473b8daffc772c1d0721",
      "51b0fd996145403a8e2211fe66d54ebe",
      "22710b6953ca4557b77f955aea34d11e",
      "2e8881067b3c4d5d85ffb857f6bde8ff",
      "047b208842cc434a926bb3394e5fe4e6",
      "3651c73f0420404b9f91647e50eb55cb",
      "c35081337cd346388d5a9ad21a55d145",
      "7aed58c72979494a80aff155d775bab3",
      "183b2feb414443379504e34ec93962cf",
      "62c0bb3cc2314a388544b0f58323a476",
      "6789c80688894d0e9c3e34c54dae3897",
      "c1220a8032c44480b67e95eab3a394e6",
      "bab29f3280104ea2bf68ccd6b0ef22cb",
      "9233dd8510444f1e8cb765f7c4218856",
      "ca83e4bba16640349c88c63bd3a8e9fc",
      "f0c2ea33d7a54b47933efc1376c76518",
      "99f53143e3894ac5a523db91d1832e73",
      "7f6dc35c66344dc1bd475c9fcddbf694",
      "6a2bfcc3009841a9bdbff9afd26153a6",
      "780f971f8f5141a39e944bd8bf3408f1",
      "833446e0bbf147a8881b176b92e849c6",
      "16e42b0b9d1f4ec1b673d4463dcbaec2",
      "4766e97cf44d49af946113843c17a8e9",
      "5e0336ea73f1406d94bbb022c2fe3003",
      "6325e8423ae9445eaae54ecc77b6f291",
      "58072d357bf740bfa74b0efaf8bca2c9",
      "7ebd38cd4f5a4afebc3594c51196599f",
      "3911708675ca4dd1b68bb7659ba69a91"
     ]
    },
    "id": "1HaEp4J8VEL0",
    "outputId": "f1631c1d-a561-43eb-e92b-10ba18c6c0bb"
   },
   "outputs": [
    {
     "name": "stdout",
     "output_type": "stream",
     "text": [
      "Downloading http://yann.lecun.com/exdb/mnist/train-images-idx3-ubyte.gz to data/MNIST/raw/train-images-idx3-ubyte.gz\n"
     ]
    },
    {
     "data": {
      "application/vnd.jupyter.widget-view+json": {
       "model_id": "82e00da97c67459f9ebf3956c1b16513",
       "version_major": 2,
       "version_minor": 0
      },
      "text/plain": [
       "HBox(children=(FloatProgress(value=1.0, bar_style='info', max=1.0), HTML(value='')))"
      ]
     },
     "metadata": {
      "tags": []
     },
     "output_type": "display_data"
    },
    {
     "name": "stdout",
     "output_type": "stream",
     "text": [
      "Extracting data/MNIST/raw/train-images-idx3-ubyte.gz to data/MNIST/raw\n",
      "Downloading http://yann.lecun.com/exdb/mnist/train-labels-idx1-ubyte.gz to data/MNIST/raw/train-labels-idx1-ubyte.gz\n"
     ]
    },
    {
     "data": {
      "application/vnd.jupyter.widget-view+json": {
       "model_id": "047b208842cc434a926bb3394e5fe4e6",
       "version_major": 2,
       "version_minor": 0
      },
      "text/plain": [
       "HBox(children=(FloatProgress(value=1.0, bar_style='info', max=1.0), HTML(value='')))"
      ]
     },
     "metadata": {
      "tags": []
     },
     "output_type": "display_data"
    },
    {
     "name": "stdout",
     "output_type": "stream",
     "text": [
      "Extracting data/MNIST/raw/train-labels-idx1-ubyte.gz to data/MNIST/raw\n",
      "Downloading http://yann.lecun.com/exdb/mnist/t10k-images-idx3-ubyte.gz to data/MNIST/raw/t10k-images-idx3-ubyte.gz\n"
     ]
    },
    {
     "data": {
      "application/vnd.jupyter.widget-view+json": {
       "model_id": "bab29f3280104ea2bf68ccd6b0ef22cb",
       "version_major": 2,
       "version_minor": 0
      },
      "text/plain": [
       "HBox(children=(FloatProgress(value=1.0, bar_style='info', max=1.0), HTML(value='')))"
      ]
     },
     "metadata": {
      "tags": []
     },
     "output_type": "display_data"
    },
    {
     "name": "stdout",
     "output_type": "stream",
     "text": [
      "Extracting data/MNIST/raw/t10k-images-idx3-ubyte.gz to data/MNIST/raw\n",
      "Downloading http://yann.lecun.com/exdb/mnist/t10k-labels-idx1-ubyte.gz to data/MNIST/raw/t10k-labels-idx1-ubyte.gz\n"
     ]
    },
    {
     "data": {
      "application/vnd.jupyter.widget-view+json": {
       "model_id": "833446e0bbf147a8881b176b92e849c6",
       "version_major": 2,
       "version_minor": 0
      },
      "text/plain": [
       "HBox(children=(FloatProgress(value=1.0, bar_style='info', max=1.0), HTML(value='')))"
      ]
     },
     "metadata": {
      "tags": []
     },
     "output_type": "display_data"
    },
    {
     "name": "stdout",
     "output_type": "stream",
     "text": [
      "Extracting data/MNIST/raw/t10k-labels-idx1-ubyte.gz to data/MNIST/raw\n",
      "Processing...\n",
      "Done!\n"
     ]
    },
    {
     "name": "stderr",
     "output_type": "stream",
     "text": [
      "/usr/local/lib/python3.6/dist-packages/torchvision/datasets/mnist.py:480: UserWarning: The given NumPy array is not writeable, and PyTorch does not support non-writeable tensors. This means you can write to the underlying (supposedly non-writeable) NumPy array using the tensor. You may want to copy the array to protect its data or make it writeable before converting it to a tensor. This type of warning will be suppressed for the rest of this program. (Triggered internally at  /pytorch/torch/csrc/utils/tensor_numpy.cpp:141.)\n",
      "  return torch.from_numpy(parsed.astype(m[2], copy=False)).view(*s)\n"
     ]
    }
   ],
   "source": [
    "transform = transforms.Compose([transforms.ToTensor(), transforms.Normalize((0.5,), (0.5,))])\n",
    "\n",
    "train_dataset = datasets.MNIST(\"data\", train=True, download=True, transform=transform)\n",
    "sampler=torch.utils.data.sampler.SubsetRandomSampler(range(256))\n",
    "train_loader = torch.utils.data.DataLoader(train_dataset, batch_size=16, sampler=sampler)\n",
    "\n",
    "test_dataset = datasets.MNIST(\"data\", train=False, download=True, transform=transform)\n",
    "sampler=torch.utils.data.sampler.SubsetRandomSampler(range(2048))\n",
    "test_loader = torch.utils.data.DataLoader(test_dataset, batch_size=128, sampler=sampler)"
   ]
  },
  {
   "cell_type": "markdown",
   "metadata": {
    "id": "uVIjKWFJVEL3"
   },
   "source": [
    "Fill the missing code below. In both train_epoch and test, total_correct should be the total number of correctly classified samples, while total_samples should be the total number of samples that have been iterated over."
   ]
  },
  {
   "cell_type": "code",
   "execution_count": null,
   "metadata": {
    "id": "UNrSxxd8VEL3"
   },
   "outputs": [],
   "source": [
    "def train(epochs, model, criterion, optimizer, train_loader, test_loader, scheduler=None):\n",
    "    train_errs = []\n",
    "    test_errs = []\n",
    "    for epoch in range(epochs):\n",
    "        train_err = train_epoch(model, criterion, optimizer, train_loader)\n",
    "        test_err = test(model, test_loader)\n",
    "        print('Epoch {:03d}/{:03d}, Error: {} || {}'.format(epoch, epochs, train_err, test_err))\n",
    "        train_errs.append(train_err)\n",
    "        test_errs.append(test_err)\n",
    "        if scheduler is not None: scheduler.step()\n",
    "    return train_errs, test_errs\n",
    "    \n",
    "def train_epoch(model, criterion, optimizer, loader):\n",
    "    total_correct = 0.\n",
    "    total_samples = 0.\n",
    "    \n",
    "    for batch_idx, (data, target) in enumerate(loader):\n",
    "        data, target = data.to(device), target.to(device)\n",
    "\n",
    "    \n",
    "        optimizer.zero_grad()\n",
    "        \n",
    "        # insert code to get the model outputs and compute the loss (criterion)\n",
    "        outputs = model(data)\n",
    "        loss = criterion(outputs, target)\n",
    "\n",
    "        \n",
    "        total_correct += torch.sum(torch.argmax(outputs, dim = 1) == target)# insert code here\n",
    "        total_samples += len(target)# insert code here\n",
    "        \n",
    "        # insert code to update the parameters using optimizer\n",
    "        loss.backward()\n",
    "        optimizer.step()\n",
    "\n",
    "\n",
    "    return 1 - total_correct/total_samples\n",
    "    \n",
    "def test(model, loader):\n",
    "    total_correct = 0.\n",
    "    total_samples = 0.\n",
    "\n",
    "    with torch.no_grad():\n",
    "        for batch_idx, (data, target) in enumerate(loader):\n",
    "            data, target = data.to(device), target.to(device)\n",
    "            # insert code to get the model outputs\n",
    "            outputs = model(data)\n",
    "\n",
    "            total_correct += torch.sum(torch.argmax(outputs, dim = 1) == target)# insert code here\n",
    "            total_samples += len(target)# insert code here\n",
    "\n",
    "    return 1 - total_correct/total_samples\n",
    "\n",
    "def plot_err(train_errs, test_errs):\n",
    "    plt.xlabel(\"epochs\")\n",
    "    plt.ylabel(\"error (%)\")\n",
    "    plt.plot(np.arange(len(train_errs)), train_errs, color='red')\n",
    "    plt.plot(np.arange(len(test_errs)), test_errs, color='blue')\n",
    "    plt.legend(['train error', 'test error'], loc='upper right')\n",
    "    plt.tight_layout()\n",
    "    plt.show()\n",
    "    plt.clf()"
   ]
  },
  {
   "cell_type": "markdown",
   "metadata": {
    "id": "vsvnresUVEL6"
   },
   "source": [
    "Implement a CNN with 4 convolutional layers, each with a kernel size of 5, stride of 2 and padding of 2, followed by two fully-connected layers, the first with 2048 hidden units and the last with 10 units. The first conv layer should have w channels and each following conv should double the number of channels. Every layer should be followed by batch norm and then a ReLU activation (except for the last layer).\n",
    "\n",
    "More specifically, the model should be:\n",
    "\n",
    "Conv(w, k=5, s=2, p=2) -> BN(w) -> ReLU ->\n",
    "\n",
    "Conv(2*w, k=5, s=2, p=2) -> BN(w) -> ReLU -> \n",
    "\n",
    "Conv(4*w, k=5, s=2, p=2) -> BN(w) -> ReLU -> \n",
    "\n",
    "Conv(8*w, k=5, s=2, p=2) -> BN(w) -> ReLU ->\n",
    "\n",
    "Linear(2048) -> BN(2048) -> ReLU ->\n",
    "\n",
    "Linear (10)"
   ]
  },
  {
   "cell_type": "code",
   "execution_count": null,
   "metadata": {
    "id": "Xql4PlSoVEL7"
   },
   "outputs": [],
   "source": [
    "class CNN(nn.Module):\n",
    "    def __init__(self, w):\n",
    "        super(CNN, self).__init__()\n",
    "        \n",
    "        # insert code here \n",
    "        self.conv1 = nn.Conv2d( in_channels=1, out_channels=w, kernel_size=5,stride = 2, padding = 2)\n",
    "        self.conv1_bn = nn.BatchNorm2d(w)\n",
    "        \n",
    "        self.conv2 = nn.Conv2d( in_channels=w, out_channels=2*w, kernel_size=5,stride = 2, padding = 2)\n",
    "        self.conv2_bn = nn.BatchNorm2d(2*w)\n",
    "        \n",
    "        self.conv3 = nn.Conv2d( in_channels=2*w, out_channels=4*w, kernel_size=5,stride = 2, padding = 2)\n",
    "        self.conv3_bn = nn.BatchNorm2d(4*w)\n",
    "        \n",
    "        self.conv4 = nn.Conv2d( in_channels=4*w, out_channels=8*w, kernel_size=5,stride = 2, padding = 2)\n",
    "        self.conv4_bn = nn.BatchNorm2d(8*w)\n",
    "        \n",
    "        self.fc1 = nn.Linear(4096, 2048)\n",
    "        self.fc1_bn = nn.BatchNorm1d(2048)\n",
    "        \n",
    "        self.fc2 = nn.Linear(2048, 10)\n",
    "        \n",
    "        \n",
    "    def forward(self, input):\n",
    "        \n",
    "        # insert code here \n",
    "        x = F.relu(self.conv1_bn(self.conv1(input)))\n",
    "        x = F.relu(self.conv2_bn(self.conv2(x)))\n",
    "        x = F.relu(self.conv3_bn(self.conv3(x)))\n",
    "        x = F.relu(self.conv4_bn(self.conv4(x)))\n",
    "        x = x.view(-1, self.num_flat_features(x))\n",
    "        x = F.relu(self.fc1_bn(self.fc1(x)))\n",
    "        output = self.fc2(x)\n",
    "        return output\n",
    "        \n",
    "    def num_flat_features(self, x):\n",
    "        size = x.size()[1:]  # all dimensions except the batch dimension\n",
    "        num_features = 1\n",
    "        for s in size:\n",
    "            num_features *= s\n",
    "        return num_features\n",
    "\n"
   ]
  },
  {
   "cell_type": "code",
   "execution_count": null,
   "metadata": {
    "id": "wyrIpJp8VEL-"
   },
   "outputs": [],
   "source": [
    "criterion = torch.nn.CrossEntropyLoss()"
   ]
  },
  {
   "cell_type": "markdown",
   "metadata": {
    "id": "3XvPtbgZVEMA"
   },
   "source": [
    "We'll first train a CNN with a small learning rate of 0.0002. If your implementation is correct you should be able to reach 0% training error."
   ]
  },
  {
   "cell_type": "code",
   "execution_count": null,
   "metadata": {
    "colab": {
     "base_uri": "https://localhost:8080/"
    },
    "id": "3QkYstubVEMB",
    "outputId": "36952864-f460-4af2-f7fa-c76be5007109"
   },
   "outputs": [
    {
     "name": "stdout",
     "output_type": "stream",
     "text": [
      "Epoch 000/040, Error: 0.65234375 || 0.50048828125\n",
      "Epoch 001/040, Error: 0.16015625 || 0.396484375\n",
      "Epoch 002/040, Error: 0.0703125 || 0.36328125\n",
      "Epoch 003/040, Error: 0.0390625 || 0.3388671875\n",
      "Epoch 004/040, Error: 0.0234375 || 0.31787109375\n",
      "Epoch 005/040, Error: 0.00390625 || 0.314453125\n",
      "Epoch 006/040, Error: 0.00390625 || 0.30810546875\n",
      "Epoch 007/040, Error: 0.00390625 || 0.296875\n",
      "Epoch 008/040, Error: 0.0 || 0.2880859375\n",
      "Epoch 009/040, Error: 0.0 || 0.2890625\n",
      "Epoch 010/040, Error: 0.00390625 || 0.27978515625\n",
      "Epoch 011/040, Error: 0.0 || 0.28271484375\n",
      "Epoch 012/040, Error: 0.0 || 0.27978515625\n",
      "Epoch 013/040, Error: 0.0 || 0.27880859375\n",
      "Epoch 014/040, Error: 0.0 || 0.27685546875\n",
      "Epoch 015/040, Error: 0.0 || 0.27880859375\n",
      "Epoch 016/040, Error: 0.0 || 0.27099609375\n",
      "Epoch 017/040, Error: 0.0 || 0.267578125\n",
      "Epoch 018/040, Error: 0.0 || 0.2666015625\n",
      "Epoch 019/040, Error: 0.0 || 0.271484375\n",
      "Epoch 020/040, Error: 0.0 || 0.27001953125\n",
      "Epoch 021/040, Error: 0.0 || 0.2705078125\n",
      "Epoch 022/040, Error: 0.0 || 0.2626953125\n",
      "Epoch 023/040, Error: 0.0 || 0.2626953125\n",
      "Epoch 024/040, Error: 0.0 || 0.26708984375\n",
      "Epoch 025/040, Error: 0.0 || 0.26220703125\n",
      "Epoch 026/040, Error: 0.0 || 0.265625\n",
      "Epoch 027/040, Error: 0.0 || 0.26123046875\n",
      "Epoch 028/040, Error: 0.0 || 0.26318359375\n",
      "Epoch 029/040, Error: 0.0 || 0.2607421875\n",
      "Epoch 030/040, Error: 0.0 || 0.25927734375\n",
      "Epoch 031/040, Error: 0.0 || 0.26416015625\n",
      "Epoch 032/040, Error: 0.0 || 0.26318359375\n",
      "Epoch 033/040, Error: 0.0 || 0.26171875\n",
      "Epoch 034/040, Error: 0.0 || 0.25439453125\n",
      "Epoch 035/040, Error: 0.0 || 0.25927734375\n",
      "Epoch 036/040, Error: 0.0 || 0.2578125\n",
      "Epoch 037/040, Error: 0.0 || 0.25830078125\n",
      "Epoch 038/040, Error: 0.0 || 0.2587890625\n",
      "Epoch 039/040, Error: 0.0 || 0.26025390625\n"
     ]
    }
   ],
   "source": [
    "network1 = CNN(128).cuda()\n",
    "optimizer = torch.optim.SGD(network1.parameters(), lr=0.0002, weight_decay=1e-2, momentum=0.5, nesterov=True)\n",
    "train_errs, test_errs = train(40, network1, criterion, optimizer, train_loader, test_loader)"
   ]
  },
  {
   "cell_type": "code",
   "execution_count": null,
   "metadata": {
    "colab": {
     "base_uri": "https://localhost:8080/",
     "height": 314
    },
    "id": "lUHJJsf6VEMD",
    "outputId": "1de80ce8-932a-4352-f62e-5acd05b75692"
   },
   "outputs": [
    {
     "data": {
      "image/png": "[encoded data removed]",
      "text/plain": [
       "<Figure size 432x288 with 1 Axes>"
      ]
     },
     "metadata": {
      "needs_background": "light",
      "tags": []
     },
     "output_type": "display_data"
    },
    {
     "data": {
      "text/plain": [
       "<Figure size 432x288 with 0 Axes>"
      ]
     },
     "metadata": {
      "tags": []
     },
     "output_type": "display_data"
    }
   ],
   "source": [
    "plot_err(train_errs, test_errs)"
   ]
  },
  {
   "cell_type": "markdown",
   "metadata": {
    "id": "d-NY6zY1VEMF"
   },
   "source": [
    "Now, we'll train the same model but starting with a large learning rate of 1.0, which will be decayed during training. Instantiate a scheduler in the cell below that decays the learning rate by a factor of 10 every 15 epochs: look at the docs of torch.optim.lr_scheduler to see how to do that."
   ]
  },
  {
   "cell_type": "code",
   "execution_count": null,
   "metadata": {
    "colab": {
     "base_uri": "https://localhost:8080/"
    },
    "id": "wb9n-Y72VEMG",
    "outputId": "c0fb635e-d331-4b4e-eee6-67228de8b589"
   },
   "outputs": [
    {
     "name": "stdout",
     "output_type": "stream",
     "text": [
      "Epoch 000/040, Error: 0.8046875 || 0.7958984375\n",
      "Epoch 001/040, Error: 0.70703125 || 0.7001953125\n",
      "Epoch 002/040, Error: 0.6796875 || 0.6220703125\n",
      "Epoch 003/040, Error: 0.59765625 || 0.53076171875\n",
      "Epoch 004/040, Error: 0.5703125 || 0.54345703125\n",
      "Epoch 005/040, Error: 0.5546875 || 0.39599609375\n",
      "Epoch 006/040, Error: 0.4140625 || 0.39501953125\n",
      "Epoch 007/040, Error: 0.34375 || 0.48486328125\n",
      "Epoch 008/040, Error: 0.32421875 || 0.490234375\n",
      "Epoch 009/040, Error: 0.37109375 || 0.453125\n",
      "Epoch 010/040, Error: 0.3359375 || 0.453125\n",
      "Epoch 011/040, Error: 0.3828125 || 0.35791015625\n",
      "Epoch 012/040, Error: 0.2890625 || 0.4052734375\n",
      "Epoch 013/040, Error: 0.4453125 || 0.4970703125\n",
      "Epoch 014/040, Error: 0.33984375 || 0.42041015625\n",
      "Epoch 015/040, Error: 0.234375 || 0.21044921875\n",
      "Epoch 016/040, Error: 0.06640625 || 0.177734375\n",
      "Epoch 017/040, Error: 0.06640625 || 0.16064453125\n",
      "Epoch 018/040, Error: 0.0234375 || 0.15966796875\n",
      "Epoch 019/040, Error: 0.03515625 || 0.1689453125\n",
      "Epoch 020/040, Error: 0.015625 || 0.1552734375\n",
      "Epoch 021/040, Error: 0.01171875 || 0.15966796875\n",
      "Epoch 022/040, Error: 0.00390625 || 0.15625\n",
      "Epoch 023/040, Error: 0.0 || 0.1533203125\n",
      "Epoch 024/040, Error: 0.0078125 || 0.1455078125\n",
      "Epoch 025/040, Error: 0.0 || 0.14990234375\n",
      "Epoch 026/040, Error: 0.0 || 0.14404296875\n",
      "Epoch 027/040, Error: 0.0078125 || 0.1650390625\n",
      "Epoch 028/040, Error: 0.0078125 || 0.15380859375\n",
      "Epoch 029/040, Error: 0.0 || 0.140625\n",
      "Epoch 030/040, Error: 0.0 || 0.1435546875\n",
      "Epoch 031/040, Error: 0.00390625 || 0.1474609375\n",
      "Epoch 032/040, Error: 0.0 || 0.14501953125\n",
      "Epoch 033/040, Error: 0.0 || 0.1396484375\n",
      "Epoch 034/040, Error: 0.0 || 0.14697265625\n",
      "Epoch 035/040, Error: 0.00390625 || 0.14013671875\n",
      "Epoch 036/040, Error: 0.0 || 0.13818359375\n",
      "Epoch 037/040, Error: 0.0 || 0.14306640625\n",
      "Epoch 038/040, Error: 0.0 || 0.14013671875\n",
      "Epoch 039/040, Error: 0.0 || 0.14453125\n"
     ]
    }
   ],
   "source": [
    "network2 = CNN(128).cuda()\n",
    "optimizer = torch.optim.SGD(network2.parameters(), lr=1.0, weight_decay=1e-2, momentum=0.5, nesterov=True)\n",
    "scheduler = torch.optim.lr_scheduler.StepLR(optimizer, step_size=15, gamma=0.1)# insert code here \n",
    "train_errs, test_errs = train(40, network2, criterion, optimizer, train_loader, test_loader, scheduler)"
   ]
  },
  {
   "cell_type": "code",
   "execution_count": null,
   "metadata": {
    "colab": {
     "base_uri": "https://localhost:8080/",
     "height": 314
    },
    "id": "SMy3q8ACVEMH",
    "outputId": "a6acaf40-cbb5-49d6-df65-1ec173562344"
   },
   "outputs": [
    {
     "data": {
      "image/png": "[encoded data removed]",
      "text/plain": [
       "<Figure size 432x288 with 1 Axes>"
      ]
     },
     "metadata": {
      "needs_background": "light",
      "tags": []
     },
     "output_type": "display_data"
    },
    {
     "data": {
      "text/plain": [
       "<Figure size 432x288 with 0 Axes>"
      ]
     },
     "metadata": {
      "tags": []
     },
     "output_type": "display_data"
    }
   ],
   "source": [
    "plot_err(train_errs, test_errs)"
   ]
  },
  {
   "cell_type": "markdown",
   "metadata": {
    "id": "127FZfT2VEML"
   },
   "source": [
    "**<span style=\"color:blue\">\n",
    "    How do the two models compare in terms of train and test performance? Discuss your findings and compare them with your observations with SGLD in the first part of this assignment.\n",
    "</span>**\n",
    "\n",
    "**<span style=\"color:red\">\n",
    "    ------------------------------------------------------------------------------- ANSWER (BEGIN) -------------------------------------------------------------------------------\n",
    "</span>**"
   ]
  },
  {
   "cell_type": "markdown",
   "metadata": {},
   "source": [
    "The final error rate of the annealed system is 1.445, whereas the final error rate of the first system is 0.26. So, scheduled learning rate performed much better. It seems that similar to the SGLD part, the first system's loss stabilized on a stationary distribution at about the 15th epoch. Changing the temperature was necessary to reduce the loss even further. The annealed system was able to overcome this problem by reducing the learning rate after stabilization and thus cooling the temperature.   "
   ]
  },
  {
   "cell_type": "markdown",
   "metadata": {
    "id": "_SP0hXTiVEML"
   },
   "source": [
    "**<span style=\"color:red\">\n",
    "    ------------------------------------------------------------------------------- ANSWER (END) -------------------------------------------------------------------------------\n",
    "</span>**"
   ]
  },
  {
   "cell_type": "markdown",
   "metadata": {
    "id": "Tqd0IhMJVEMM"
   },
   "source": [
    "# Estimating a norm-based PAC-Bayes generalization bound\n",
    "\n",
    "In this last part you'll check whether the two networks trained in the second step have properties that are useful when predicting their generalization capabilities with PAC-Bayes. Recall the general PAC-Bayesian guarantee:\n",
    "\n",
    "$$L(Q_w) \\leq \\frac{10}{9} \\left( \\hat L(Q_w) + \\frac{5}{N} \\left( \\mathcal D(Q_w, P) + \\log \\frac{1}{\\delta} \\right)   \\right)$$\n",
    "\n",
    "where $L(Q_w) = \\mathbb E_{\\epsilon \\sim \\mathcal N(0, \\sigma^2)^d} [L(w + \\epsilon)]$ and $\\hat L(Q_w) = \\mathbb E_{\\epsilon \\sim \\mathcal N(0, \\sigma^2)^d} [\\hat L(w + \\epsilon)]$, with $L, \\hat L$ denoting the test and train losses, respectively. Moreover, $Q_w = \\mathcal N(w, \\sigma^2)^d$ and $\\mathcal D(\\cdot, \\cdot)$ denotes the KL divergence. Let $P = \\mathcal N(0, \\sigma^2)^d$ (here $d$ denotes the number of parameters of the network).\n",
    "\n",
    "We will estimate the generalization guarantees given by the above bound as a function of $\\sigma$. Note that $L(Q_w)$, $\\hat L(Q_w)$ and $\\mathcal D(Q_w, P)$ all depend on $\\sigma$. You should derive by yourself what $\\mathcal D(Q_w, P)$ looks like before moving on.\n",
    "\n",
    "In the cell below you'll implement the function get_norm, which receives a model as argument and should return the squared $\\ell_2$ norm of its parameters, i.e. $\\|w\\|_2^2 = \\sum_i w_i^2$. If you don't know why you'd need this function, go over the lecture slides that cover PAC-Bayes again, or alternatively check this tutorial on PAC-Bayes: https://arxiv.org/pdf/1307.2118.pdf."
   ]
  },
  {
   "cell_type": "code",
   "execution_count": 2,
   "metadata": {
    "id": "Eu9HdfrbVEMM"
   },
   "outputs": [],
   "source": [
    "def get_norm(network):\n",
    "    \n",
    "    # insert code here \n",
    "    norm = 0\n",
    "    for parameter in network.parameters:\n",
    "        norm += parameter**2\n",
    "\n",
    "    return norm"
   ]
  },
  {
   "cell_type": "markdown",
   "metadata": {
    "id": "IESdK2hiVEMP"
   },
   "source": [
    "Let's check the squared norm of each of the two networks -- remember that network1 was trained with a small, constant learning rate, while network2 was trained with a large one that was annealed. Both had the same strength for $\\ell_2$ regularization."
   ]
  },
  {
   "cell_type": "code",
   "execution_count": 3,
   "metadata": {
    "id": "XnkYEjA5VEMP"
   },
   "outputs": [
    {
     "ename": "NameError",
     "evalue": "name 'network1' is not defined",
     "output_type": "error",
     "traceback": [
      "\u001b[1;31m---------------------------------------------------------------------------\u001b[0m",
      "\u001b[1;31mNameError\u001b[0m                                 Traceback (most recent call last)",
      "\u001b[1;32m<ipython-input-3-63cde05ccdb2>\u001b[0m in \u001b[0;36m<module>\u001b[1;34m\u001b[0m\n\u001b[1;32m----> 1\u001b[1;33m \u001b[0mnorm1\u001b[0m \u001b[1;33m=\u001b[0m \u001b[0mget_norm\u001b[0m\u001b[1;33m(\u001b[0m\u001b[0mnetwork1\u001b[0m\u001b[1;33m)\u001b[0m\u001b[1;33m\u001b[0m\u001b[1;33m\u001b[0m\u001b[0m\n\u001b[0m\u001b[0;32m      2\u001b[0m \u001b[0mnorm2\u001b[0m \u001b[1;33m=\u001b[0m \u001b[0mget_norm\u001b[0m\u001b[1;33m(\u001b[0m\u001b[0mnetwork2\u001b[0m\u001b[1;33m)\u001b[0m\u001b[1;33m\u001b[0m\u001b[1;33m\u001b[0m\u001b[0m\n\u001b[0;32m      3\u001b[0m \u001b[0mprint\u001b[0m\u001b[1;33m(\u001b[0m\u001b[1;34m\"Squared l2 norm of model 1: {}\"\u001b[0m\u001b[1;33m.\u001b[0m\u001b[0mformat\u001b[0m\u001b[1;33m(\u001b[0m\u001b[0mnorm1\u001b[0m\u001b[1;33m)\u001b[0m\u001b[1;33m)\u001b[0m\u001b[1;33m\u001b[0m\u001b[1;33m\u001b[0m\u001b[0m\n\u001b[0;32m      4\u001b[0m \u001b[0mprint\u001b[0m\u001b[1;33m(\u001b[0m\u001b[1;34m\"Squared l2 norm of model 2: {}\"\u001b[0m\u001b[1;33m.\u001b[0m\u001b[0mformat\u001b[0m\u001b[1;33m(\u001b[0m\u001b[0mnorm2\u001b[0m\u001b[1;33m)\u001b[0m\u001b[1;33m)\u001b[0m\u001b[1;33m\u001b[0m\u001b[1;33m\u001b[0m\u001b[0m\n",
      "\u001b[1;31mNameError\u001b[0m: name 'network1' is not defined"
     ]
    }
   ],
   "source": [
    "norm1 = get_norm(network1)\n",
    "norm2 = get_norm(network2)\n",
    "print(\"Squared l2 norm of model 1: {}\".format(norm1))\n",
    "print(\"Squared l2 norm of model 2: {}\".format(norm2))"
   ]
  },
  {
   "cell_type": "markdown",
   "metadata": {
    "id": "4YnaRq4uVEMR"
   },
   "source": [
    "Lastly, the function below will estimate $\\hat L(Q_w)$ for a given $\\sigma$. To do that, you should make 10 copies of the given model, add gaussian noise with variance $\\sigma^2$ to its parameters, and compute the average error on the training set."
   ]
  },
  {
   "cell_type": "code",
   "execution_count": null,
   "metadata": {
    "id": "KfnAaPH-VEMR"
   },
   "outputs": [],
   "source": [
    "def pac_test(model, loader, sigma):\n",
    "    errs = []\n",
    "\n",
    "    with torch.no_grad():\n",
    "        for k in range(10):\n",
    "            total_correct = 0.\n",
    "            total_samples = 0.\n",
    "            \n",
    "            # depending on your pytorch version the line above might throw an error\n",
    "            # if this happens, search online on how to deep copy pytorch models in your version\n",
    "            \n",
    "            model_clone = copy.deepcopy(model)\n",
    "            \n",
    "            # insert code here to add gaussian i.i.d. noise to the model's parameters\n",
    "            \n",
    "            for batch_idx, (data, target) in enumerate(loader):\n",
    "                # insert code here \n",
    "                \n",
    "                # insert code to get the model outputs\n",
    "\n",
    "                total_correct += # insert code here\n",
    "                total_samples += # insert code here\n",
    "\n",
    "            errs.append(1 - total_correct/total_samples)\n",
    "                \n",
    "    return sum(errs) / len(errs)"
   ]
  },
  {
   "cell_type": "markdown",
   "metadata": {
    "id": "-VWSoDaNVEMT"
   },
   "source": [
    "The cells below will compute and print $\\hat L(Q_w)$ for 5 different values of $\\sigma$ and for each of the two networks trained previously."
   ]
  },
  {
   "cell_type": "code",
   "execution_count": null,
   "metadata": {
    "id": "jh_f2v2tVEMU"
   },
   "outputs": [],
   "source": [
    "for sigma in [1e-1, 5e-2, 1e-2, 5e-3, 1e-3]:\n",
    "    pac_test_err = pac_test(network1, train_loader, sigma)\n",
    "    print(\"Error of model 1 with sigma={}: {} %\".format(sigma, 100*pac_test_err))"
   ]
  },
  {
   "cell_type": "code",
   "execution_count": null,
   "metadata": {
    "id": "R2qz4Y6BVEMV"
   },
   "outputs": [],
   "source": [
    "for sigma in [1e-1, 5e-2, 1e-2, 5e-3, 1e-3]:\n",
    "    pac_test_err = pac_test(network2, train_loader, sigma)\n",
    "    print(\"Error of model 2 with sigma={}: {} %\".format(sigma, 100*pac_test_err))"
   ]
  },
  {
   "cell_type": "markdown",
   "metadata": {
    "id": "qpnr05BEVEMY"
   },
   "source": [
    "**<span style=\"color:blue\">\n",
    "    Which network maintains a reasonable performance with the largest $\\sigma$? Compare with the parameter norms computed previously. Considering the PAC-Bayes guarantee you derived, which network should have better generalization? In the MNIST experiments, which network actually generalized better?\n",
    "</span>**\n",
    "\n",
    "**<span style=\"color:red\">\n",
    "    ------------------------------------------------------------------------------- ANSWER (BEGIN) -------------------------------------------------------------------------------\n",
    "</span>**"
   ]
  },
  {
   "cell_type": "markdown",
   "metadata": {
    "id": "km4ySjH-VEMY"
   },
   "source": [
    "**<span style=\"color:red\">\n",
    "    ------------------------------------------------------------------------------- ANSWER (END) -------------------------------------------------------------------------------\n",
    "</span>**"
   ]
  }
 ],
 "metadata": {
  "accelerator": "GPU",
  "anaconda-cloud": {},
  "colab": {
   "collapsed_sections": [
    "Tqd0IhMJVEMM"
   ],
   "name": "PS3.ipynb",
   "provenance": []
  },
  "kernelspec": {
   "display_name": "Python 3",
   "language": "python",
   "name": "python3"
  },
  "language_info": {
   "codemirror_mode": {
    "name": "ipython",
    "version": 3
   },
   "file_extension": ".py",
   "mimetype": "text/x-python",
   "name": "python",
   "nbconvert_exporter": "python",
   "pygments_lexer": "ipython3",
   "version": "3.8.3"
  },
  "widgets": {
   "application/vnd.jupyter.widget-state+json": {
    "047b208842cc434a926bb3394e5fe4e6": {
     "model_module": "@jupyter-widgets/controls",
     "model_name": "HBoxModel",
     "state": {
      "_dom_classes": [],
      "_model_module": "@jupyter-widgets/controls",
      "_model_module_version": "1.5.0",
      "_model_name": "HBoxModel",
      "_view_count": null,
      "_view_module": "@jupyter-widgets/controls",
      "_view_module_version": "1.5.0",
      "_view_name": "HBoxView",
      "box_style": "",
      "children": [
       "IPY_MODEL_c35081337cd346388d5a9ad21a55d145",
       "IPY_MODEL_7aed58c72979494a80aff155d775bab3"
      ],
      "layout": "IPY_MODEL_3651c73f0420404b9f91647e50eb55cb"
     }
    },
    "0eb9061bc9994e799c5ec211c26c425d": {
     "model_module": "@jupyter-widgets/controls",
     "model_name": "FloatProgressModel",
     "state": {
      "_dom_classes": [],
      "_model_module": "@jupyter-widgets/controls",
      "_model_module_version": "1.5.0",
      "_model_name": "FloatProgressModel",
      "_view_count": null,
      "_view_module": "@jupyter-widgets/controls",
      "_view_module_version": "1.5.0",
      "_view_name": "ProgressView",
      "bar_style": "info",
      "description": "",
      "description_tooltip": null,
      "layout": "IPY_MODEL_51b0fd996145403a8e2211fe66d54ebe",
      "max": 1,
      "min": 0,
      "orientation": "horizontal",
      "style": "IPY_MODEL_2d868f4b2577473b8daffc772c1d0721",
      "value": 1
     }
    },
    "16e42b0b9d1f4ec1b673d4463dcbaec2": {
     "model_module": "@jupyter-widgets/base",
     "model_name": "LayoutModel",
     "state": {
      "_model_module": "@jupyter-widgets/base",
      "_model_module_version": "1.2.0",
      "_model_name": "LayoutModel",
      "_view_count": null,
      "_view_module": "@jupyter-widgets/base",
      "_view_module_version": "1.2.0",
      "_view_name": "LayoutView",
      "align_content": null,
      "align_items": null,
      "align_self": null,
      "border": null,
      "bottom": null,
      "display": null,
      "flex": null,
      "flex_flow": null,
      "grid_area": null,
      "grid_auto_columns": null,
      "grid_auto_flow": null,
      "grid_auto_rows": null,
      "grid_column": null,
      "grid_gap": null,
      "grid_row": null,
      "grid_template_areas": null,
      "grid_template_columns": null,
      "grid_template_rows": null,
      "height": null,
      "justify_content": null,
      "justify_items": null,
      "left": null,
      "margin": null,
      "max_height": null,
      "max_width": null,
      "min_height": null,
      "min_width": null,
      "object_fit": null,
      "object_position": null,
      "order": null,
      "overflow": null,
      "overflow_x": null,
      "overflow_y": null,
      "padding": null,
      "right": null,
      "top": null,
      "visibility": null,
      "width": null
     }
    },
    "183b2feb414443379504e34ec93962cf": {
     "model_module": "@jupyter-widgets/controls",
     "model_name": "ProgressStyleModel",
     "state": {
      "_model_module": "@jupyter-widgets/controls",
      "_model_module_version": "1.5.0",
      "_model_name": "ProgressStyleModel",
      "_view_count": null,
      "_view_module": "@jupyter-widgets/base",
      "_view_module_version": "1.2.0",
      "_view_name": "StyleView",
      "bar_color": null,
      "description_width": "initial"
     }
    },
    "22710b6953ca4557b77f955aea34d11e": {
     "model_module": "@jupyter-widgets/controls",
     "model_name": "DescriptionStyleModel",
     "state": {
      "_model_module": "@jupyter-widgets/controls",
      "_model_module_version": "1.5.0",
      "_model_name": "DescriptionStyleModel",
      "_view_count": null,
      "_view_module": "@jupyter-widgets/base",
      "_view_module_version": "1.2.0",
      "_view_name": "StyleView",
      "description_width": ""
     }
    },
    "2d868f4b2577473b8daffc772c1d0721": {
     "model_module": "@jupyter-widgets/controls",
     "model_name": "ProgressStyleModel",
     "state": {
      "_model_module": "@jupyter-widgets/controls",
      "_model_module_version": "1.5.0",
      "_model_name": "ProgressStyleModel",
      "_view_count": null,
      "_view_module": "@jupyter-widgets/base",
      "_view_module_version": "1.2.0",
      "_view_name": "StyleView",
      "bar_color": null,
      "description_width": "initial"
     }
    },
    "2e8881067b3c4d5d85ffb857f6bde8ff": {
     "model_module": "@jupyter-widgets/base",
     "model_name": "LayoutModel",
     "state": {
      "_model_module": "@jupyter-widgets/base",
      "_model_module_version": "1.2.0",
      "_model_name": "LayoutModel",
      "_view_count": null,
      "_view_module": "@jupyter-widgets/base",
      "_view_module_version": "1.2.0",
      "_view_name": "LayoutView",
      "align_content": null,
      "align_items": null,
      "align_self": null,
      "border": null,
      "bottom": null,
      "display": null,
      "flex": null,
      "flex_flow": null,
      "grid_area": null,
      "grid_auto_columns": null,
      "grid_auto_flow": null,
      "grid_auto_rows": null,
      "grid_column": null,
      "grid_gap": null,
      "grid_row": null,
      "grid_template_areas": null,
      "grid_template_columns": null,
      "grid_template_rows": null,
      "height": null,
      "justify_content": null,
      "justify_items": null,
      "left": null,
      "margin": null,
      "max_height": null,
      "max_width": null,
      "min_height": null,
      "min_width": null,
      "object_fit": null,
      "object_position": null,
      "order": null,
      "overflow": null,
      "overflow_x": null,
      "overflow_y": null,
      "padding": null,
      "right": null,
      "top": null,
      "visibility": null,
      "width": null
     }
    },
    "3651c73f0420404b9f91647e50eb55cb": {
     "model_module": "@jupyter-widgets/base",
     "model_name": "LayoutModel",
     "state": {
      "_model_module": "@jupyter-widgets/base",
      "_model_module_version": "1.2.0",
      "_model_name": "LayoutModel",
      "_view_count": null,
      "_view_module": "@jupyter-widgets/base",
      "_view_module_version": "1.2.0",
      "_view_name": "LayoutView",
      "align_content": null,
      "align_items": null,
      "align_self": null,
      "border": null,
      "bottom": null,
      "display": null,
      "flex": null,
      "flex_flow": null,
      "grid_area": null,
      "grid_auto_columns": null,
      "grid_auto_flow": null,
      "grid_auto_rows": null,
      "grid_column": null,
      "grid_gap": null,
      "grid_row": null,
      "grid_template_areas": null,
      "grid_template_columns": null,
      "grid_template_rows": null,
      "height": null,
      "justify_content": null,
      "justify_items": null,
      "left": null,
      "margin": null,
      "max_height": null,
      "max_width": null,
      "min_height": null,
      "min_width": null,
      "object_fit": null,
      "object_position": null,
      "order": null,
      "overflow": null,
      "overflow_x": null,
      "overflow_y": null,
      "padding": null,
      "right": null,
      "top": null,
      "visibility": null,
      "width": null
     }
    },
    "3911708675ca4dd1b68bb7659ba69a91": {
     "model_module": "@jupyter-widgets/base",
     "model_name": "LayoutModel",
     "state": {
      "_model_module": "@jupyter-widgets/base",
      "_model_module_version": "1.2.0",
      "_model_name": "LayoutModel",
      "_view_count": null,
      "_view_module": "@jupyter-widgets/base",
      "_view_module_version": "1.2.0",
      "_view_name": "LayoutView",
      "align_content": null,
      "align_items": null,
      "align_self": null,
      "border": null,
      "bottom": null,
      "display": null,
      "flex": null,
      "flex_flow": null,
      "grid_area": null,
      "grid_auto_columns": null,
      "grid_auto_flow": null,
      "grid_auto_rows": null,
      "grid_column": null,
      "grid_gap": null,
      "grid_row": null,
      "grid_template_areas": null,
      "grid_template_columns": null,
      "grid_template_rows": null,
      "height": null,
      "justify_content": null,
      "justify_items": null,
      "left": null,
      "margin": null,
      "max_height": null,
      "max_width": null,
      "min_height": null,
      "min_width": null,
      "object_fit": null,
      "object_position": null,
      "order": null,
      "overflow": null,
      "overflow_x": null,
      "overflow_y": null,
      "padding": null,
      "right": null,
      "top": null,
      "visibility": null,
      "width": null
     }
    },
    "4766e97cf44d49af946113843c17a8e9": {
     "model_module": "@jupyter-widgets/controls",
     "model_name": "FloatProgressModel",
     "state": {
      "_dom_classes": [],
      "_model_module": "@jupyter-widgets/controls",
      "_model_module_version": "1.5.0",
      "_model_name": "FloatProgressModel",
      "_view_count": null,
      "_view_module": "@jupyter-widgets/controls",
      "_view_module_version": "1.5.0",
      "_view_name": "ProgressView",
      "bar_style": "info",
      "description": "",
      "description_tooltip": null,
      "layout": "IPY_MODEL_58072d357bf740bfa74b0efaf8bca2c9",
      "max": 1,
      "min": 0,
      "orientation": "horizontal",
      "style": "IPY_MODEL_6325e8423ae9445eaae54ecc77b6f291",
      "value": 0
     }
    },
    "51b0fd996145403a8e2211fe66d54ebe": {
     "model_module": "@jupyter-widgets/base",
     "model_name": "LayoutModel",
     "state": {
      "_model_module": "@jupyter-widgets/base",
      "_model_module_version": "1.2.0",
      "_model_name": "LayoutModel",
      "_view_count": null,
      "_view_module": "@jupyter-widgets/base",
      "_view_module_version": "1.2.0",
      "_view_name": "LayoutView",
      "align_content": null,
      "align_items": null,
      "align_self": null,
      "border": null,
      "bottom": null,
      "display": null,
      "flex": null,
      "flex_flow": null,
      "grid_area": null,
      "grid_auto_columns": null,
      "grid_auto_flow": null,
      "grid_auto_rows": null,
      "grid_column": null,
      "grid_gap": null,
      "grid_row": null,
      "grid_template_areas": null,
      "grid_template_columns": null,
      "grid_template_rows": null,
      "height": null,
      "justify_content": null,
      "justify_items": null,
      "left": null,
      "margin": null,
      "max_height": null,
      "max_width": null,
      "min_height": null,
      "min_width": null,
      "object_fit": null,
      "object_position": null,
      "order": null,
      "overflow": null,
      "overflow_x": null,
      "overflow_y": null,
      "padding": null,
      "right": null,
      "top": null,
      "visibility": null,
      "width": null
     }
    },
    "58072d357bf740bfa74b0efaf8bca2c9": {
     "model_module": "@jupyter-widgets/base",
     "model_name": "LayoutModel",
     "state": {
      "_model_module": "@jupyter-widgets/base",
      "_model_module_version": "1.2.0",
      "_model_name": "LayoutModel",
      "_view_count": null,
      "_view_module": "@jupyter-widgets/base",
      "_view_module_version": "1.2.0",
      "_view_name": "LayoutView",
      "align_content": null,
      "align_items": null,
      "align_self": null,
      "border": null,
      "bottom": null,
      "display": null,
      "flex": null,
      "flex_flow": null,
      "grid_area": null,
      "grid_auto_columns": null,
      "grid_auto_flow": null,
      "grid_auto_rows": null,
      "grid_column": null,
      "grid_gap": null,
      "grid_row": null,
      "grid_template_areas": null,
      "grid_template_columns": null,
      "grid_template_rows": null,
      "height": null,
      "justify_content": null,
      "justify_items": null,
      "left": null,
      "margin": null,
      "max_height": null,
      "max_width": null,
      "min_height": null,
      "min_width": null,
      "object_fit": null,
      "object_position": null,
      "order": null,
      "overflow": null,
      "overflow_x": null,
      "overflow_y": null,
      "padding": null,
      "right": null,
      "top": null,
      "visibility": null,
      "width": null
     }
    },
    "5e0336ea73f1406d94bbb022c2fe3003": {
     "model_module": "@jupyter-widgets/controls",
     "model_name": "HTMLModel",
     "state": {
      "_dom_classes": [],
      "_model_module": "@jupyter-widgets/controls",
      "_model_module_version": "1.5.0",
      "_model_name": "HTMLModel",
      "_view_count": null,
      "_view_module": "@jupyter-widgets/controls",
      "_view_module_version": "1.5.0",
      "_view_name": "HTMLView",
      "description": "",
      "description_tooltip": null,
      "layout": "IPY_MODEL_3911708675ca4dd1b68bb7659ba69a91",
      "placeholder": "​",
      "style": "IPY_MODEL_7ebd38cd4f5a4afebc3594c51196599f",
      "value": " 0/? [00:00&lt;?, ?it/s]"
     }
    },
    "5f06d31b2f684e25a59f0bd1b0c9e4d1": {
     "model_module": "@jupyter-widgets/base",
     "model_name": "LayoutModel",
     "state": {
      "_model_module": "@jupyter-widgets/base",
      "_model_module_version": "1.2.0",
      "_model_name": "LayoutModel",
      "_view_count": null,
      "_view_module": "@jupyter-widgets/base",
      "_view_module_version": "1.2.0",
      "_view_name": "LayoutView",
      "align_content": null,
      "align_items": null,
      "align_self": null,
      "border": null,
      "bottom": null,
      "display": null,
      "flex": null,
      "flex_flow": null,
      "grid_area": null,
      "grid_auto_columns": null,
      "grid_auto_flow": null,
      "grid_auto_rows": null,
      "grid_column": null,
      "grid_gap": null,
      "grid_row": null,
      "grid_template_areas": null,
      "grid_template_columns": null,
      "grid_template_rows": null,
      "height": null,
      "justify_content": null,
      "justify_items": null,
      "left": null,
      "margin": null,
      "max_height": null,
      "max_width": null,
      "min_height": null,
      "min_width": null,
      "object_fit": null,
      "object_position": null,
      "order": null,
      "overflow": null,
      "overflow_x": null,
      "overflow_y": null,
      "padding": null,
      "right": null,
      "top": null,
      "visibility": null,
      "width": null
     }
    },
    "62c0bb3cc2314a388544b0f58323a476": {
     "model_module": "@jupyter-widgets/base",
     "model_name": "LayoutModel",
     "state": {
      "_model_module": "@jupyter-widgets/base",
      "_model_module_version": "1.2.0",
      "_model_name": "LayoutModel",
      "_view_count": null,
      "_view_module": "@jupyter-widgets/base",
      "_view_module_version": "1.2.0",
      "_view_name": "LayoutView",
      "align_content": null,
      "align_items": null,
      "align_self": null,
      "border": null,
      "bottom": null,
      "display": null,
      "flex": null,
      "flex_flow": null,
      "grid_area": null,
      "grid_auto_columns": null,
      "grid_auto_flow": null,
      "grid_auto_rows": null,
      "grid_column": null,
      "grid_gap": null,
      "grid_row": null,
      "grid_template_areas": null,
      "grid_template_columns": null,
      "grid_template_rows": null,
      "height": null,
      "justify_content": null,
      "justify_items": null,
      "left": null,
      "margin": null,
      "max_height": null,
      "max_width": null,
      "min_height": null,
      "min_width": null,
      "object_fit": null,
      "object_position": null,
      "order": null,
      "overflow": null,
      "overflow_x": null,
      "overflow_y": null,
      "padding": null,
      "right": null,
      "top": null,
      "visibility": null,
      "width": null
     }
    },
    "6325e8423ae9445eaae54ecc77b6f291": {
     "model_module": "@jupyter-widgets/controls",
     "model_name": "ProgressStyleModel",
     "state": {
      "_model_module": "@jupyter-widgets/controls",
      "_model_module_version": "1.5.0",
      "_model_name": "ProgressStyleModel",
      "_view_count": null,
      "_view_module": "@jupyter-widgets/base",
      "_view_module_version": "1.2.0",
      "_view_name": "StyleView",
      "bar_color": null,
      "description_width": "initial"
     }
    },
    "6789c80688894d0e9c3e34c54dae3897": {
     "model_module": "@jupyter-widgets/controls",
     "model_name": "DescriptionStyleModel",
     "state": {
      "_model_module": "@jupyter-widgets/controls",
      "_model_module_version": "1.5.0",
      "_model_name": "DescriptionStyleModel",
      "_view_count": null,
      "_view_module": "@jupyter-widgets/base",
      "_view_module_version": "1.2.0",
      "_view_name": "StyleView",
      "description_width": ""
     }
    },
    "6a2bfcc3009841a9bdbff9afd26153a6": {
     "model_module": "@jupyter-widgets/controls",
     "model_name": "DescriptionStyleModel",
     "state": {
      "_model_module": "@jupyter-widgets/controls",
      "_model_module_version": "1.5.0",
      "_model_name": "DescriptionStyleModel",
      "_view_count": null,
      "_view_module": "@jupyter-widgets/base",
      "_view_module_version": "1.2.0",
      "_view_name": "StyleView",
      "description_width": ""
     }
    },
    "780f971f8f5141a39e944bd8bf3408f1": {
     "model_module": "@jupyter-widgets/base",
     "model_name": "LayoutModel",
     "state": {
      "_model_module": "@jupyter-widgets/base",
      "_model_module_version": "1.2.0",
      "_model_name": "LayoutModel",
      "_view_count": null,
      "_view_module": "@jupyter-widgets/base",
      "_view_module_version": "1.2.0",
      "_view_name": "LayoutView",
      "align_content": null,
      "align_items": null,
      "align_self": null,
      "border": null,
      "bottom": null,
      "display": null,
      "flex": null,
      "flex_flow": null,
      "grid_area": null,
      "grid_auto_columns": null,
      "grid_auto_flow": null,
      "grid_auto_rows": null,
      "grid_column": null,
      "grid_gap": null,
      "grid_row": null,
      "grid_template_areas": null,
      "grid_template_columns": null,
      "grid_template_rows": null,
      "height": null,
      "justify_content": null,
      "justify_items": null,
      "left": null,
      "margin": null,
      "max_height": null,
      "max_width": null,
      "min_height": null,
      "min_width": null,
      "object_fit": null,
      "object_position": null,
      "order": null,
      "overflow": null,
      "overflow_x": null,
      "overflow_y": null,
      "padding": null,
      "right": null,
      "top": null,
      "visibility": null,
      "width": null
     }
    },
    "7aed58c72979494a80aff155d775bab3": {
     "model_module": "@jupyter-widgets/controls",
     "model_name": "HTMLModel",
     "state": {
      "_dom_classes": [],
      "_model_module": "@jupyter-widgets/controls",
      "_model_module_version": "1.5.0",
      "_model_name": "HTMLModel",
      "_view_count": null,
      "_view_module": "@jupyter-widgets/controls",
      "_view_module_version": "1.5.0",
      "_view_name": "HTMLView",
      "description": "",
      "description_tooltip": null,
      "layout": "IPY_MODEL_c1220a8032c44480b67e95eab3a394e6",
      "placeholder": "​",
      "style": "IPY_MODEL_6789c80688894d0e9c3e34c54dae3897",
      "value": " 0/? [00:00&lt;?, ?it/s]"
     }
    },
    "7ebd38cd4f5a4afebc3594c51196599f": {
     "model_module": "@jupyter-widgets/controls",
     "model_name": "DescriptionStyleModel",
     "state": {
      "_model_module": "@jupyter-widgets/controls",
      "_model_module_version": "1.5.0",
      "_model_name": "DescriptionStyleModel",
      "_view_count": null,
      "_view_module": "@jupyter-widgets/base",
      "_view_module_version": "1.2.0",
      "_view_name": "StyleView",
      "description_width": ""
     }
    },
    "7f6dc35c66344dc1bd475c9fcddbf694": {
     "model_module": "@jupyter-widgets/base",
     "model_name": "LayoutModel",
     "state": {
      "_model_module": "@jupyter-widgets/base",
      "_model_module_version": "1.2.0",
      "_model_name": "LayoutModel",
      "_view_count": null,
      "_view_module": "@jupyter-widgets/base",
      "_view_module_version": "1.2.0",
      "_view_name": "LayoutView",
      "align_content": null,
      "align_items": null,
      "align_self": null,
      "border": null,
      "bottom": null,
      "display": null,
      "flex": null,
      "flex_flow": null,
      "grid_area": null,
      "grid_auto_columns": null,
      "grid_auto_flow": null,
      "grid_auto_rows": null,
      "grid_column": null,
      "grid_gap": null,
      "grid_row": null,
      "grid_template_areas": null,
      "grid_template_columns": null,
      "grid_template_rows": null,
      "height": null,
      "justify_content": null,
      "justify_items": null,
      "left": null,
      "margin": null,
      "max_height": null,
      "max_width": null,
      "min_height": null,
      "min_width": null,
      "object_fit": null,
      "object_position": null,
      "order": null,
      "overflow": null,
      "overflow_x": null,
      "overflow_y": null,
      "padding": null,
      "right": null,
      "top": null,
      "visibility": null,
      "width": null
     }
    },
    "82e00da97c67459f9ebf3956c1b16513": {
     "model_module": "@jupyter-widgets/controls",
     "model_name": "HBoxModel",
     "state": {
      "_dom_classes": [],
      "_model_module": "@jupyter-widgets/controls",
      "_model_module_version": "1.5.0",
      "_model_name": "HBoxModel",
      "_view_count": null,
      "_view_module": "@jupyter-widgets/controls",
      "_view_module_version": "1.5.0",
      "_view_name": "HBoxView",
      "box_style": "",
      "children": [
       "IPY_MODEL_0eb9061bc9994e799c5ec211c26c425d",
       "IPY_MODEL_a256df1ef65c43968d2a19172a7092fb"
      ],
      "layout": "IPY_MODEL_5f06d31b2f684e25a59f0bd1b0c9e4d1"
     }
    },
    "833446e0bbf147a8881b176b92e849c6": {
     "model_module": "@jupyter-widgets/controls",
     "model_name": "HBoxModel",
     "state": {
      "_dom_classes": [],
      "_model_module": "@jupyter-widgets/controls",
      "_model_module_version": "1.5.0",
      "_model_name": "HBoxModel",
      "_view_count": null,
      "_view_module": "@jupyter-widgets/controls",
      "_view_module_version": "1.5.0",
      "_view_name": "HBoxView",
      "box_style": "",
      "children": [
       "IPY_MODEL_4766e97cf44d49af946113843c17a8e9",
       "IPY_MODEL_5e0336ea73f1406d94bbb022c2fe3003"
      ],
      "layout": "IPY_MODEL_16e42b0b9d1f4ec1b673d4463dcbaec2"
     }
    },
    "9233dd8510444f1e8cb765f7c4218856": {
     "model_module": "@jupyter-widgets/base",
     "model_name": "LayoutModel",
     "state": {
      "_model_module": "@jupyter-widgets/base",
      "_model_module_version": "1.2.0",
      "_model_name": "LayoutModel",
      "_view_count": null,
      "_view_module": "@jupyter-widgets/base",
      "_view_module_version": "1.2.0",
      "_view_name": "LayoutView",
      "align_content": null,
      "align_items": null,
      "align_self": null,
      "border": null,
      "bottom": null,
      "display": null,
      "flex": null,
      "flex_flow": null,
      "grid_area": null,
      "grid_auto_columns": null,
      "grid_auto_flow": null,
      "grid_auto_rows": null,
      "grid_column": null,
      "grid_gap": null,
      "grid_row": null,
      "grid_template_areas": null,
      "grid_template_columns": null,
      "grid_template_rows": null,
      "height": null,
      "justify_content": null,
      "justify_items": null,
      "left": null,
      "margin": null,
      "max_height": null,
      "max_width": null,
      "min_height": null,
      "min_width": null,
      "object_fit": null,
      "object_position": null,
      "order": null,
      "overflow": null,
      "overflow_x": null,
      "overflow_y": null,
      "padding": null,
      "right": null,
      "top": null,
      "visibility": null,
      "width": null
     }
    },
    "99f53143e3894ac5a523db91d1832e73": {
     "model_module": "@jupyter-widgets/controls",
     "model_name": "ProgressStyleModel",
     "state": {
      "_model_module": "@jupyter-widgets/controls",
      "_model_module_version": "1.5.0",
      "_model_name": "ProgressStyleModel",
      "_view_count": null,
      "_view_module": "@jupyter-widgets/base",
      "_view_module_version": "1.2.0",
      "_view_name": "StyleView",
      "bar_color": null,
      "description_width": "initial"
     }
    },
    "a256df1ef65c43968d2a19172a7092fb": {
     "model_module": "@jupyter-widgets/controls",
     "model_name": "HTMLModel",
     "state": {
      "_dom_classes": [],
      "_model_module": "@jupyter-widgets/controls",
      "_model_module_version": "1.5.0",
      "_model_name": "HTMLModel",
      "_view_count": null,
      "_view_module": "@jupyter-widgets/controls",
      "_view_module_version": "1.5.0",
      "_view_name": "HTMLView",
      "description": "",
      "description_tooltip": null,
      "layout": "IPY_MODEL_2e8881067b3c4d5d85ffb857f6bde8ff",
      "placeholder": "​",
      "style": "IPY_MODEL_22710b6953ca4557b77f955aea34d11e",
      "value": " 9920512/? [00:20&lt;00:00, 28616274.28it/s]"
     }
    },
    "bab29f3280104ea2bf68ccd6b0ef22cb": {
     "model_module": "@jupyter-widgets/controls",
     "model_name": "HBoxModel",
     "state": {
      "_dom_classes": [],
      "_model_module": "@jupyter-widgets/controls",
      "_model_module_version": "1.5.0",
      "_model_name": "HBoxModel",
      "_view_count": null,
      "_view_module": "@jupyter-widgets/controls",
      "_view_module_version": "1.5.0",
      "_view_name": "HBoxView",
      "box_style": "",
      "children": [
       "IPY_MODEL_ca83e4bba16640349c88c63bd3a8e9fc",
       "IPY_MODEL_f0c2ea33d7a54b47933efc1376c76518"
      ],
      "layout": "IPY_MODEL_9233dd8510444f1e8cb765f7c4218856"
     }
    },
    "c1220a8032c44480b67e95eab3a394e6": {
     "model_module": "@jupyter-widgets/base",
     "model_name": "LayoutModel",
     "state": {
      "_model_module": "@jupyter-widgets/base",
      "_model_module_version": "1.2.0",
      "_model_name": "LayoutModel",
      "_view_count": null,
      "_view_module": "@jupyter-widgets/base",
      "_view_module_version": "1.2.0",
      "_view_name": "LayoutView",
      "align_content": null,
      "align_items": null,
      "align_self": null,
      "border": null,
      "bottom": null,
      "display": null,
      "flex": null,
      "flex_flow": null,
      "grid_area": null,
      "grid_auto_columns": null,
      "grid_auto_flow": null,
      "grid_auto_rows": null,
      "grid_column": null,
      "grid_gap": null,
      "grid_row": null,
      "grid_template_areas": null,
      "grid_template_columns": null,
      "grid_template_rows": null,
      "height": null,
      "justify_content": null,
      "justify_items": null,
      "left": null,
      "margin": null,
      "max_height": null,
      "max_width": null,
      "min_height": null,
      "min_width": null,
      "object_fit": null,
      "object_position": null,
      "order": null,
      "overflow": null,
      "overflow_x": null,
      "overflow_y": null,
      "padding": null,
      "right": null,
      "top": null,
      "visibility": null,
      "width": null
     }
    },
    "c35081337cd346388d5a9ad21a55d145": {
     "model_module": "@jupyter-widgets/controls",
     "model_name": "FloatProgressModel",
     "state": {
      "_dom_classes": [],
      "_model_module": "@jupyter-widgets/controls",
      "_model_module_version": "1.5.0",
      "_model_name": "FloatProgressModel",
      "_view_count": null,
      "_view_module": "@jupyter-widgets/controls",
      "_view_module_version": "1.5.0",
      "_view_name": "ProgressView",
      "bar_style": "info",
      "description": "",
      "description_tooltip": null,
      "layout": "IPY_MODEL_62c0bb3cc2314a388544b0f58323a476",
      "max": 1,
      "min": 0,
      "orientation": "horizontal",
      "style": "IPY_MODEL_183b2feb414443379504e34ec93962cf",
      "value": 0
     }
    },
    "ca83e4bba16640349c88c63bd3a8e9fc": {
     "model_module": "@jupyter-widgets/controls",
     "model_name": "FloatProgressModel",
     "state": {
      "_dom_classes": [],
      "_model_module": "@jupyter-widgets/controls",
      "_model_module_version": "1.5.0",
      "_model_name": "FloatProgressModel",
      "_view_count": null,
      "_view_module": "@jupyter-widgets/controls",
      "_view_module_version": "1.5.0",
      "_view_name": "ProgressView",
      "bar_style": "info",
      "description": "",
      "description_tooltip": null,
      "layout": "IPY_MODEL_7f6dc35c66344dc1bd475c9fcddbf694",
      "max": 1,
      "min": 0,
      "orientation": "horizontal",
      "style": "IPY_MODEL_99f53143e3894ac5a523db91d1832e73",
      "value": 1
     }
    },
    "f0c2ea33d7a54b47933efc1376c76518": {
     "model_module": "@jupyter-widgets/controls",
     "model_name": "HTMLModel",
     "state": {
      "_dom_classes": [],
      "_model_module": "@jupyter-widgets/controls",
      "_model_module_version": "1.5.0",
      "_model_name": "HTMLModel",
      "_view_count": null,
      "_view_module": "@jupyter-widgets/controls",
      "_view_module_version": "1.5.0",
      "_view_name": "HTMLView",
      "description": "",
      "description_tooltip": null,
      "layout": "IPY_MODEL_780f971f8f5141a39e944bd8bf3408f1",
      "placeholder": "​",
      "style": "IPY_MODEL_6a2bfcc3009841a9bdbff9afd26153a6",
      "value": " 1654784/? [00:19&lt;00:00, 132508.32it/s]"
     }
    }
   }
  }
 },
 "nbformat": 4,
 "nbformat_minor": 1
}
